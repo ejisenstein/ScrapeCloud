{
 "cells": [
  {
   "cell_type": "markdown",
   "metadata": {},
   "source": [
    "## Imports"
   ]
  },
  {
   "cell_type": "code",
   "execution_count": 1,
   "metadata": {},
   "outputs": [],
   "source": [
    "import time\n",
    "from selenium import webdriver\n",
    "import pandas as pd\n",
    "import numpy as np\n",
    "import matplotlib.pyplot as plt\n",
    "\n",
    "from selenium.webdriver.support import expected_conditions as EC\n",
    "from selenium.webdriver.common.keys import Keys\n",
    "from selenium.webdriver.common.action_chains import ActionChains\n",
    "\n",
    "from wordcloud import WordCloud, STOPWORDS"
   ]
  },
  {
   "cell_type": "markdown",
   "metadata": {
    "heading_collapsed": true
   },
   "source": [
    "## Class LordOfReplies\n",
    "Takes in yt-url, returns df of comments"
   ]
  },
  {
   "cell_type": "code",
   "execution_count": 2,
   "metadata": {
    "code_folding": [
     0
    ],
    "hidden": true
   },
   "outputs": [],
   "source": [
    "class LordOfReplies:\n",
    "    \"\"\"Takes in a youtube url,\n",
    "    cycles: how many times the driver scrolls down, 20 cycles covers about 500 comments\n",
    "    url: clearly a url\n",
    "\n",
    "    returns a dataframe of the youtube comments. \"\"\"\n",
    "\n",
    "    def __init__(self, cycles, url):\n",
    "        self.cycles = cycles\n",
    "        self.url = url\n",
    "        self.driver = webdriver.Chrome('/Users/evanisenstein/Documents/Chromedriver/chromedriver')\n",
    "\n",
    "\n",
    "    def scrape_to_dataframe(self):\n",
    "\n",
    "        self.driver.get(self.url)\n",
    "        time.sleep(4)\n",
    "\n",
    "        html = self.driver.find_element_by_tag_name('html')\n",
    "        html.send_keys(Keys.PAGE_DOWN)\n",
    "        time.sleep(3)\n",
    "\n",
    "        for i in range(self.cycles):\n",
    "            html.send_keys(Keys.END)\n",
    "            time.sleep(2)\n",
    "\n",
    "        element = self.driver.find_element_by_xpath(\"//*[@id='title' and @class='style-scope ytd-comments-header-renderer']\")\n",
    "        actions = ActionChains(self.driver)\n",
    "        actions.move_to_element(element).perform()\n",
    "\n",
    "        view_replies = self.driver.find_elements_by_xpath(\"//*[@id='text' and @class='style-scope ytd-button-renderer']\")\n",
    "\n",
    "        for reply in range(len(view_replies)):\n",
    "            if reply % 2 == 0:\n",
    "                try:\n",
    "                    view_replies[reply].click()\n",
    "                    time.sleep(2)\n",
    "                except Exception as e:\n",
    "                        print(e)\n",
    "                        break\n",
    "\n",
    "        element = self.driver.find_element_by_xpath(\"//*[@id='title' and @class='style-scope ytd-comments-header-renderer']\")\n",
    "        actions = ActionChains(self.driver)\n",
    "        actions.move_to_element(element).perform()\n",
    "\n",
    "        show_more_replies = self.driver.find_elements_by_xpath(\"//*[@class='style-scope yt-next-continuation' and @role='button']\")\n",
    "\n",
    "        for reply in show_more_replies:\n",
    "            if reply.text == 'Show more replies':\n",
    "                reply.click()\n",
    "                time.sleep(2)\n",
    "\n",
    "        comments=self.driver.find_elements_by_xpath('//*[@id=\"content-text\"]')\n",
    "        name=self.driver.find_elements_by_xpath('//*[@id=\"author-text\"]')\n",
    "\n",
    "        name_list = []\n",
    "        comments_list = []\n",
    "\n",
    "        for i in range(len(name)):\n",
    "            name_list.append(name[i].text)\n",
    "            comments_list.append(comments[i].text)\n",
    "\n",
    "        d = {'name': name_list, 'comments': comments_list}\n",
    "\n",
    "        self.driver.quit()\n",
    "\n",
    "        yt_df = pd.DataFrame(d)\n",
    "\n",
    "        print(f'Size of the scraped comments is {yt_df.shape[0]}')\n",
    "\n",
    "        return yt_df"
   ]
  },
  {
   "cell_type": "markdown",
   "metadata": {},
   "source": [
    "## Class InTheClouds\n",
    "takes in yt comment df, returns word cloud saved in png\n"
   ]
  },
  {
   "cell_type": "code",
   "execution_count": 3,
   "metadata": {
    "code_folding": [
     0
    ]
   },
   "outputs": [],
   "source": [
    "class InTheClouds:\n",
    "    \"\"\"Takes in a dataframe, returns a wordcloud\n",
    "    df is a dataframe you need to turn into a wordcloud\n",
    "    stops is a list of strings, stopwords you don't want included\n",
    "    filename, ends in .png, what you want it\"\"\"\n",
    "\n",
    "    def __init__(self, df, stops, filename):\n",
    "        self.df = df\n",
    "        self.stops = stops\n",
    "        self.filename = filename\n",
    "\n",
    "    def make_word_cloud(self):\n",
    "\n",
    "        self.df[\"splitted\"] = self.df['comments'].str.lower().str.replace('[^\\w\\s]','').str.split()\n",
    "\n",
    "        text = \" \".join(word for word in self.df['comments'])\n",
    "\n",
    "        stopwords = set(STOPWORDS)\n",
    "\n",
    "        stopwords.update(self.stops)\n",
    "\n",
    "        word_cloud = WordCloud(width = 1600,\n",
    "                               height = 800,\n",
    "                               stopwords=stopwords).generate(text)\n",
    "\n",
    "        plt.figure( figsize=(20,10), facecolor='k')\n",
    "        plt.imshow(word_cloud)\n",
    "        plt.axis(\"off\")\n",
    "        plt.savefig(self.filename, facecolor='k', bbox_inches='tight')"
   ]
  },
  {
   "cell_type": "markdown",
   "metadata": {},
   "source": [
    "# Run to scrape comments, then generate word cloud"
   ]
  },
  {
   "cell_type": "code",
   "execution_count": null,
   "metadata": {},
   "outputs": [],
   "source": [
    "lord_replies = LordOfReplies(30, 'https://www.youtube.com/watch?v=DQ7mwZnN250')\n",
    "\n",
    "replies_df = lord_replies.scrape_to_dataframe()\n",
    "\n",
    "stops_words = ['ugly', 'stupid']\n",
    "\n",
    "in_clouds = InTheClouds(replies_df, stops_words, 'trial.png')\n",
    "\n",
    "in_clouds.make_word_cloud()"
   ]
  }
 ],
 "metadata": {
  "kernelspec": {
   "display_name": "Python 3",
   "language": "python",
   "name": "python3"
  },
  "language_info": {
   "codemirror_mode": {
    "name": "ipython",
    "version": 3
   },
   "file_extension": ".py",
   "mimetype": "text/x-python",
   "name": "python",
   "nbconvert_exporter": "python",
   "pygments_lexer": "ipython3",
   "version": "3.7.3"
  }
 },
 "nbformat": 4,
 "nbformat_minor": 2
}
